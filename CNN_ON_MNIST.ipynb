{
 "cells": [
  {
   "cell_type": "markdown",
   "metadata": {},
   "source": [
    "# Apply 3 different CNN's on the MNIST dataset"
   ]
  },
  {
   "cell_type": "code",
   "execution_count": 2,
   "metadata": {},
   "outputs": [
    {
     "name": "stderr",
     "output_type": "stream",
     "text": [
      "Using TensorFlow backend.\n"
     ]
    },
    {
     "name": "stdout",
     "output_type": "stream",
     "text": [
      "x_train shape: (60000, 28, 28, 1)\n",
      "60000 train samples\n",
      "10000 test samples\n"
     ]
    }
   ],
   "source": [
    "# Credits: https://github.com/keras-team/keras/blob/master/examples/mnist_cnn.py\n",
    "#Refer this link for making better CNN networks\n",
    "#https://towardsdatascience.com/a-guide-to-an-efficient-way-to-build-neural-network-architecturespart-ii-hyper-parameter-42efca01e5d7\n",
    "import warnings\n",
    "warnings.filterwarnings(\"ignore\")\n",
    "#from __future__ import print_function\n",
    "exec('from __future__ import absolute_import, division, print_function')\n",
    "import keras\n",
    "from keras.datasets import mnist\n",
    "from keras.models import Sequential\n",
    "from keras.layers import Dense, Dropout, Flatten\n",
    "from keras.layers import Conv2D, MaxPooling2D\n",
    "from keras import backend as K\n",
    "batch_size = 128\n",
    "num_classes = 10\n",
    "epochs = 12\n",
    "# Preparing trainining and testing data\n",
    "# input image dimensions\n",
    "img_rows, img_cols = 28, 28\n",
    "# the data, split between train and test sets\n",
    "(x_train, y_train), (x_test, y_test) = mnist.load_data()\n",
    "#print(x_train.shape)\n",
    "if K.image_data_format() == 'channels_first':\n",
    "   x_train = x_train.reshape(x_train.shape[0], 1, img_rows, img_cols)\n",
    "   x_test = x_test.reshape(x_test.shape[0], 1, img_rows, img_cols)\n",
    "   input_shape = (1, img_rows, img_cols)\n",
    "else:\n",
    "   x_train = x_train.reshape(x_train.shape[0], img_rows, img_cols, 1)\n",
    "   x_test = x_test.reshape(x_test.shape[0], img_rows, img_cols, 1)\n",
    "   input_shape = (img_rows, img_cols, 1)\n",
    "x_train = x_train.astype('float32')\n",
    "x_test = x_test.astype('float32')\n",
    "x_train /= 255\n",
    "x_test /= 255\n",
    "print('x_train shape:', x_train.shape)\n",
    "print(x_train.shape[0], 'train samples')\n",
    "print(x_test.shape[0], 'test samples')\n",
    "# convert class vectors to binary class matrices\n",
    "y_train = keras.utils.to_categorical(y_train, num_classes)\n",
    "y_test = keras.utils.to_categorical(y_test, num_classes)"
   ]
  },
  {
   "cell_type": "code",
   "execution_count": 3,
   "metadata": {},
   "outputs": [],
   "source": [
    "%matplotlib notebook\n",
    "%matplotlib inline\n",
    "import matplotlib.pyplot as plt\n",
    "import numpy as np\n",
    "import time\n",
    "# https://gist.github.com/greydanus/f6eee59eaf1d90fcb3b534a25362cea4\n",
    "# https://stackoverflow.com/a/14434334 # this function is used to update the plots for each epoch and error\n",
    "def plt_dynamic(x, vy, ty, ax, colors=['b']):\n",
    "  ax.plot(x, vy, 'b', label=\"Validation Loss\")\n",
    "  ax.plot(x, ty, 'r', label=\"Train Loss\")\n",
    "  plt.legend()\n",
    "  plt.grid()\n",
    "  fig.canvas.draw()\n"
   ]
  },
  {
   "cell_type": "markdown",
   "metadata": {},
   "source": [
    "# Model 1-> 2 conv + 2 maxpoll+ 3 dense layers"
   ]
  },
  {
   "cell_type": "code",
   "execution_count": 4,
   "metadata": {},
   "outputs": [
    {
     "name": "stderr",
     "output_type": "stream",
     "text": [
      "WARNING: Logging before flag parsing goes to stderr.\n",
      "W0822 19:34:18.362667  1320 deprecation_wrapper.py:119] From C:\\anaconda\\lib\\site-packages\\keras\\backend\\tensorflow_backend.py:74: The name tf.get_default_graph is deprecated. Please use tf.compat.v1.get_default_graph instead.\n",
      "\n",
      "W0822 19:34:18.420886  1320 deprecation_wrapper.py:119] From C:\\anaconda\\lib\\site-packages\\keras\\backend\\tensorflow_backend.py:517: The name tf.placeholder is deprecated. Please use tf.compat.v1.placeholder instead.\n",
      "\n",
      "W0822 19:34:18.426529  1320 deprecation_wrapper.py:119] From C:\\anaconda\\lib\\site-packages\\keras\\backend\\tensorflow_backend.py:4138: The name tf.random_uniform is deprecated. Please use tf.random.uniform instead.\n",
      "\n",
      "W0822 19:34:18.504054  1320 deprecation_wrapper.py:119] From C:\\anaconda\\lib\\site-packages\\keras\\backend\\tensorflow_backend.py:3976: The name tf.nn.max_pool is deprecated. Please use tf.nn.max_pool2d instead.\n",
      "\n",
      "W0822 19:34:19.321984  1320 deprecation_wrapper.py:119] From C:\\anaconda\\lib\\site-packages\\keras\\optimizers.py:790: The name tf.train.Optimizer is deprecated. Please use tf.compat.v1.train.Optimizer instead.\n",
      "\n",
      "W0822 19:34:19.341834  1320 deprecation_wrapper.py:119] From C:\\anaconda\\lib\\site-packages\\keras\\backend\\tensorflow_backend.py:3295: The name tf.log is deprecated. Please use tf.math.log instead.\n",
      "\n"
     ]
    },
    {
     "name": "stdout",
     "output_type": "stream",
     "text": [
      "_________________________________________________________________\n",
      "Layer (type)                 Output Shape              Param #   \n",
      "=================================================================\n",
      "conv2d_1 (Conv2D)            (None, 28, 28, 8)         80        \n",
      "_________________________________________________________________\n",
      "max_pooling2d_1 (MaxPooling2 (None, 14, 14, 8)         0         \n",
      "_________________________________________________________________\n",
      "conv2d_2 (Conv2D)            (None, 10, 10, 16)        3216      \n",
      "_________________________________________________________________\n",
      "max_pooling2d_2 (MaxPooling2 (None, 5, 5, 16)          0         \n",
      "_________________________________________________________________\n",
      "flatten_1 (Flatten)          (None, 400)               0         \n",
      "_________________________________________________________________\n",
      "dense_1 (Dense)              (None, 120)               48120     \n",
      "_________________________________________________________________\n",
      "dense_2 (Dense)              (None, 84)                10164     \n",
      "_________________________________________________________________\n",
      "dense_3 (Dense)              (None, 10)                850       \n",
      "=================================================================\n",
      "Total params: 62,430\n",
      "Trainable params: 62,430\n",
      "Non-trainable params: 0\n",
      "_________________________________________________________________\n"
     ]
    }
   ],
   "source": [
    "import warnings\n",
    "warnings.filterwarnings(\"ignore\")\n",
    "# In this (First Model) lets follow the general structure of the lenet we will make a simple model\n",
    "# Network Architecture\n",
    "# input -> conv -> polling -> conv -> polling -> FC -> FC -> output\n",
    "# 8 16 120 84 10\n",
    "model = Sequential()\n",
    "model.add(Conv2D(8, kernel_size=(3, 3),activation='relu',padding='same',input_shape=input_shape))\n",
    "model.add(MaxPooling2D(pool_size=(2, 2),strides=2))# for the location invariants\n",
    "model.add(Conv2D(16, (5, 5), activation='relu'))\n",
    "model.add(MaxPooling2D(pool_size=(2, 2),strides=2))# for the location invariants\n",
    "model.add(Flatten())\n",
    "model.add(Dense(120, activation='relu'))\n",
    "model.add(Dense(84, activation='relu'))\n",
    "model.add(Dense(num_classes, activation='softmax'))\n",
    "model.compile(loss=keras.losses.categorical_crossentropy,\n",
    "              optimizer=keras.optimizers.adam(),\n",
    "              metrics=['accuracy'])\n",
    "# this will train the model and validate the model in this fit function\n",
    "model.summary()"
   ]
  },
  {
   "cell_type": "code",
   "execution_count": 5,
   "metadata": {},
   "outputs": [
    {
     "name": "stderr",
     "output_type": "stream",
     "text": [
      "W0822 19:34:20.446787  1320 deprecation.py:323] From C:\\anaconda\\lib\\site-packages\\tensorflow\\python\\ops\\math_grad.py:1250: add_dispatch_support.<locals>.wrapper (from tensorflow.python.ops.array_ops) is deprecated and will be removed in a future version.\n",
      "Instructions for updating:\n",
      "Use tf.where in 2.0, which has the same broadcast rule as np.where\n",
      "W0822 19:34:21.303331  1320 deprecation_wrapper.py:119] From C:\\anaconda\\lib\\site-packages\\keras\\backend\\tensorflow_backend.py:986: The name tf.assign_add is deprecated. Please use tf.compat.v1.assign_add instead.\n",
      "\n"
     ]
    },
    {
     "name": "stdout",
     "output_type": "stream",
     "text": [
      "Train on 60000 samples, validate on 10000 samples\n",
      "Epoch 1/12\n",
      "60000/60000 [==============================] - 53s 891us/step - loss: 0.2857 - acc: 0.9150 - val_loss: 0.0895 - val_acc: 0.9711\n",
      "Epoch 2/12\n",
      "60000/60000 [==============================] - 53s 882us/step - loss: 0.0588 - acc: 0.9818 - val_loss: 0.0507 - val_acc: 0.9826\n",
      "Epoch 4/12\n",
      "60000/60000 [==============================] - 51s 849us/step - loss: 0.0458 - acc: 0.9854 - val_loss: 0.0439 - val_acc: 0.9856\n",
      "Epoch 5/12\n",
      "60000/60000 [==============================] - 29s 484us/step - loss: 0.0377 - acc: 0.9884 - val_loss: 0.0436 - val_acc: 0.9850\n",
      "Epoch 6/12\n",
      "60000/60000 [==============================] - 28s 463us/step - loss: 0.0301 - acc: 0.9903 - val_loss: 0.0414 - val_acc: 0.9854\n",
      "Epoch 7/12\n",
      "60000/60000 [==============================] - 30s 495us/step - loss: 0.0269 - acc: 0.9914 - val_loss: 0.0315 - val_acc: 0.9902\n",
      "Epoch 8/12\n",
      "60000/60000 [==============================] - 28s 467us/step - loss: 0.0241 - acc: 0.9922 - val_loss: 0.0337 - val_acc: 0.9891\n",
      "Epoch 9/12\n",
      "60000/60000 [==============================] - 27s 447us/step - loss: 0.0213 - acc: 0.9926 - val_loss: 0.0343 - val_acc: 0.9889\n",
      "Epoch 10/12\n",
      "60000/60000 [==============================] - 27s 445us/step - loss: 0.0173 - acc: 0.9942 - val_loss: 0.0394 - val_acc: 0.9885\n",
      "Epoch 11/12\n",
      "60000/60000 [==============================] - 28s 470us/step - loss: 0.0157 - acc: 0.9948 - val_loss: 0.0413 - val_acc: 0.9884\n",
      "Epoch 12/12\n",
      "60000/60000 [==============================] - 28s 469us/step - loss: 0.0136 - acc: 0.9954 - val_loss: 0.0364 - val_acc: 0.9894\n",
      "Test loss: 0.03637638606526252\n",
      "Test accuracy: 0.9894\n"
     ]
    }
   ],
   "source": [
    "import warnings\n",
    "warnings.filterwarnings(\"ignore\")\n",
    "history=model.fit(x_train, y_train,\n",
    "                  batch_size=batch_size,\n",
    "                  epochs=epochs,\n",
    "                  verbose=1,\n",
    "                  validation_data=(x_test, y_test))\n",
    "score = model.evaluate(x_test, y_test, verbose=0)\n",
    "print('Test loss:', score[0])\n",
    "print('Test accuracy:', score[1])"
   ]
  },
  {
   "cell_type": "code",
   "execution_count": 6,
   "metadata": {},
   "outputs": [
    {
     "name": "stdout",
     "output_type": "stream",
     "text": [
      "Train score: 0.010844710362486997\n",
      "Train accuracy: 99.645\n",
      "\n",
      "************************ *********************\n",
      "\n",
      "Test score: 0.03637638606526252\n",
      "Test accuracy: 98.94\n"
     ]
    },
    {
     "data": {
      "image/png": "[encoded data removed]",
      "text/plain": [
       "<Figure size 432x288 with 1 Axes>"
      ]
     },
     "metadata": {
      "needs_background": "light"
     },
     "output_type": "display_data"
    }
   ],
   "source": [
    "score = model.evaluate(x_train, y_train, verbose=0)\n",
    "print('Train score:', score[0])\n",
    "print('Train accuracy:', score[1]*100)\n",
    "print('\\n************************ *********************\\n')\n",
    "#test accuracy\n",
    "score = model.evaluate(x_test, y_test, verbose=0)\n",
    "print('Test score:', score[0])\n",
    "print('Test accuracy:', score[1]*100)\n",
    "# plot\n",
    "fig,ax = plt.subplots(1,1)\n",
    "ax.set_xlabel('epoch');\n",
    "ax.set_ylabel('Categorical Crossentropy Loss')\n",
    "x = list(range(1,12+1))\n",
    "vy = history.history['val_loss']\n",
    "ty = history.history['loss']\n",
    "plt_dynamic(x, vy, ty, ax)"
   ]
  },
  {
   "cell_type": "markdown",
   "metadata": {},
   "source": [
    "# Model 2-> 3 conv + 3 maxpoll+ 2 dense layers"
   ]
  },
  {
   "cell_type": "code",
   "execution_count": 7,
   "metadata": {},
   "outputs": [
    {
     "name": "stdout",
     "output_type": "stream",
     "text": [
      "_________________________________________________________________\n",
      "Layer (type)                 Output Shape              Param #   \n",
      "=================================================================\n",
      "conv2d_3 (Conv2D)            (None, 26, 26, 32)        320       \n",
      "_________________________________________________________________\n",
      "max_pooling2d_3 (MaxPooling2 (None, 13, 13, 32)        0         \n",
      "_________________________________________________________________\n",
      "conv2d_4 (Conv2D)            (None, 11, 11, 64)        18496     \n",
      "_________________________________________________________________\n",
      "max_pooling2d_4 (MaxPooling2 (None, 5, 5, 64)          0         \n",
      "_________________________________________________________________\n",
      "conv2d_5 (Conv2D)            (None, 3, 3, 128)         73856     \n",
      "_________________________________________________________________\n",
      "max_pooling2d_5 (MaxPooling2 (None, 1, 1, 128)         0         \n",
      "_________________________________________________________________\n",
      "flatten_2 (Flatten)          (None, 128)               0         \n",
      "_________________________________________________________________\n",
      "dense_4 (Dense)              (None, 64)                8256      \n",
      "_________________________________________________________________\n",
      "dense_5 (Dense)              (None, 10)                650       \n",
      "=================================================================\n",
      "Total params: 101,578\n",
      "Trainable params: 101,578\n",
      "Non-trainable params: 0\n",
      "_________________________________________________________________\n"
     ]
    }
   ],
   "source": [
    "import warnings\n",
    "warnings.filterwarnings(\"ignore\")\n",
    "# go basic model to deep layer model\n",
    "# Network Architecture\n",
    "# input -> conv -> polling -> conv -> polling -> conv -> polling -> FC -> output\n",
    "# 8 32 128 64\n",
    "model = Sequential()\n",
    "model.add(Conv2D(32, kernel_size=(3, 3),activation='relu',input_shape=input_shape))\n",
    "model.add(MaxPooling2D(pool_size=(2, 2),strides=2))# for the location invariants\n",
    "model.add(Conv2D(64, (3,3), activation='relu'))\n",
    "model.add(MaxPooling2D(pool_size=(2, 2),strides=2))# for the location invariants\n",
    "model.add(Conv2D(128, (3, 3), activation='relu'))\n",
    "model.add(MaxPooling2D(pool_size=(2, 2),strides=2))# for the location invariants\n",
    "model.add(Flatten())\n",
    "model.add(Dense(64, activation='relu'))\n",
    "model.add(Dense(num_classes, activation='softmax'))\n",
    "model.compile(loss=keras.losses.categorical_crossentropy,\n",
    "optimizer=keras.optimizers.adam(),\n",
    "metrics=['accuracy'])\n",
    "# this will train the model and validate the model in this fit function\n",
    "model.summary()"
   ]
  },
  {
   "cell_type": "code",
   "execution_count": 8,
   "metadata": {},
   "outputs": [
    {
     "name": "stdout",
     "output_type": "stream",
     "text": [
      "Train on 60000 samples, validate on 10000 samples\n",
      "Epoch 1/12\n",
      "60000/60000 [==============================] - 63s 1ms/step - loss: 0.3010 - acc: 0.9099 - val_loss: 0.1078 - val_acc: 0.9688\n",
      "Epoch 2/12\n",
      "60000/60000 [==============================] - 62s 1ms/step - loss: 0.0905 - acc: 0.9723 - val_loss: 0.0926 - val_acc: 0.9704\n",
      "Epoch 3/12\n",
      "60000/60000 [==============================] - 62s 1ms/step - loss: 0.0661 - acc: 0.9792 - val_loss: 0.0649 - val_acc: 0.9808\n",
      "Epoch 4/12\n",
      "60000/60000 [==============================] - 62s 1ms/step - loss: 0.0511 - acc: 0.9837 - val_loss: 0.0608 - val_acc: 0.9807\n",
      "Epoch 5/12\n",
      "60000/60000 [==============================] - 67s 1ms/step - loss: 0.0424 - acc: 0.9868 - val_loss: 0.0611 - val_acc: 0.9816\n",
      "Epoch 6/12\n",
      "60000/60000 [==============================] - 65s 1ms/step - loss: 0.0358 - acc: 0.9887 - val_loss: 0.0476 - val_acc: 0.9858\n",
      "Epoch 7/12\n",
      "60000/60000 [==============================] - 66s 1ms/step - loss: 0.0321 - acc: 0.9899 - val_loss: 0.0458 - val_acc: 0.9871\n",
      "Epoch 8/12\n",
      "60000/60000 [==============================] - 63s 1ms/step - loss: 0.0255 - acc: 0.9923 - val_loss: 0.0604 - val_acc: 0.9837\n",
      "Epoch 9/12\n",
      "60000/60000 [==============================] - 66s 1ms/step - loss: 0.0231 - acc: 0.9922 - val_loss: 0.0462 - val_acc: 0.9872\n",
      "Epoch 10/12\n",
      "60000/60000 [==============================] - 64s 1ms/step - loss: 0.0200 - acc: 0.9935 - val_loss: 0.0498 - val_acc: 0.9868\n",
      "Epoch 11/12\n",
      "60000/60000 [==============================] - 63s 1ms/step - loss: 0.0188 - acc: 0.9935 - val_loss: 0.0455 - val_acc: 0.9880\n",
      "Epoch 12/12\n",
      "60000/60000 [==============================] - 62s 1ms/step - loss: 0.0136 - acc: 0.9952 - val_loss: 0.0541 - val_acc: 0.9875\n",
      "Test loss: 0.05412146498494658\n",
      "Test accuracy: 0.9875\n"
     ]
    }
   ],
   "source": [
    "import warnings\n",
    "warnings.filterwarnings(\"ignore\")\n",
    "history=model.fit(x_train, y_train,\n",
    "                  batch_size=batch_size,\n",
    "                  epochs=epochs,\n",
    "                  verbose=1,\n",
    "                  validation_data=(x_test, y_test))\n",
    "score = model.evaluate(x_test, y_test, verbose=0)\n",
    "print('Test loss:', score[0])\n",
    "print('Test accuracy:', score[1])"
   ]
  },
  {
   "cell_type": "code",
   "execution_count": 9,
   "metadata": {},
   "outputs": [
    {
     "name": "stdout",
     "output_type": "stream",
     "text": [
      "Train score: 0.012100143584344308\n",
      "Train accuracy: 99.59166666666667\n",
      "\n",
      "************************ *********************\n",
      "\n",
      "Test score: 0.05412146498494658\n",
      "Test accuracy: 98.75\n"
     ]
    },
    {
     "data": {
      "image/png": "[encoded data removed]",
      "text/plain": [
       "<Figure size 432x288 with 1 Axes>"
      ]
     },
     "metadata": {
      "needs_background": "light"
     },
     "output_type": "display_data"
    }
   ],
   "source": [
    "score = model.evaluate(x_train, y_train, verbose=0)\n",
    "print('Train score:', score[0])\n",
    "print('Train accuracy:', score[1]*100)\n",
    "print('\\n************************ *********************\\n')\n",
    "#test accuracy\n",
    "score = model.evaluate(x_test, y_test, verbose=0)\n",
    "print('Test score:', score[0])\n",
    "print('Test accuracy:', score[1]*100)\n",
    "# plot\n",
    "fig,ax = plt.subplots(1,1)\n",
    "ax.set_xlabel('epoch');\n",
    "ax.set_ylabel('Categorical Crossentropy Loss')\n",
    "x = list(range(1,12+1))\n",
    "vy = history.history['val_loss']\n",
    "ty = history.history['loss']\n",
    "plt_dynamic(x, vy, ty, ax)"
   ]
  },
  {
   "cell_type": "markdown",
   "metadata": {},
   "source": [
    "Finally we train a model with the trend Conv-Conv-Pool-Conv-Conv-Pool"
   ]
  },
  {
   "cell_type": "markdown",
   "metadata": {},
   "source": [
    "# Model 3 -> 4 conv+ 2 maxpoll + 2 dence"
   ]
  },
  {
   "cell_type": "code",
   "execution_count": 10,
   "metadata": {},
   "outputs": [
    {
     "name": "stdout",
     "output_type": "stream",
     "text": [
      "_________________________________________________________________\n",
      "Layer (type)                 Output Shape              Param #   \n",
      "=================================================================\n",
      "conv2d_6 (Conv2D)            (None, 28, 28, 16)        160       \n",
      "_________________________________________________________________\n",
      "conv2d_7 (Conv2D)            (None, 28, 28, 16)        2320      \n",
      "_________________________________________________________________\n",
      "max_pooling2d_6 (MaxPooling2 (None, 14, 14, 16)        0         \n",
      "_________________________________________________________________\n",
      "conv2d_8 (Conv2D)            (None, 12, 12, 32)        4640      \n",
      "_________________________________________________________________\n",
      "conv2d_9 (Conv2D)            (None, 10, 10, 32)        9248      \n",
      "_________________________________________________________________\n",
      "max_pooling2d_7 (MaxPooling2 (None, 5, 5, 32)          0         \n",
      "_________________________________________________________________\n",
      "flatten_3 (Flatten)          (None, 800)               0         \n",
      "_________________________________________________________________\n",
      "dense_6 (Dense)              (None, 512)               410112    \n",
      "_________________________________________________________________\n",
      "dense_7 (Dense)              (None, 10)                5130      \n",
      "=================================================================\n",
      "Total params: 431,610\n",
      "Trainable params: 431,610\n",
      "Non-trainable params: 0\n",
      "_________________________________________________________________\n"
     ]
    }
   ],
   "source": [
    "# go basic model to deep layer model\n",
    "# Network Architecture\n",
    "# input -> conv -> conv -> polling -> conv -> conv -> polling -> FC -> output\n",
    "# 16 16 32 32 512\n",
    "model = Sequential()\n",
    "model.add(Conv2D(16, kernel_size=(3, 3),activation='relu',padding='same',input_shape=input_shape))\n",
    "model.add(Conv2D(16,(3, 3),activation='relu',padding='same'))\n",
    "model.add(MaxPooling2D(pool_size=(2, 2),strides=2))# for the location invariants\n",
    "model.add(Conv2D(32, (3,3), activation='relu'))\n",
    "model.add(Conv2D(32, (3,3), activation='relu'))\n",
    "model.add(MaxPooling2D(pool_size=(2, 2),strides=2))# for the location invariants\n",
    "model.add(Flatten())\n",
    "model.add(Dense(512, activation='relu'))\n",
    "model.add(Dense(num_classes, activation='softmax'))\n",
    "model.compile(loss=keras.losses.categorical_crossentropy,\n",
    "optimizer=keras.optimizers.adam(),\n",
    "metrics=['accuracy'])\n",
    "# this will train the model and validate the model in this fit function\n",
    "model.summary()"
   ]
  },
  {
   "cell_type": "code",
   "execution_count": 11,
   "metadata": {},
   "outputs": [
    {
     "name": "stdout",
     "output_type": "stream",
     "text": [
      "Train on 60000 samples, validate on 10000 samples\n",
      "Epoch 1/12\n",
      "60000/60000 [==============================] - 102s 2ms/step - loss: 0.1857 - acc: 0.9447 - val_loss: 0.0564 - val_acc: 0.9812\n",
      "Epoch 2/12\n",
      "60000/60000 [==============================] - 105s 2ms/step - loss: 0.0472 - acc: 0.9855 - val_loss: 0.0418 - val_acc: 0.9864\n",
      "Epoch 3/12\n",
      "60000/60000 [==============================] - 95s 2ms/step - loss: 0.0314 - acc: 0.9903 - val_loss: 0.0289 - val_acc: 0.9905\n",
      "Epoch 4/12\n",
      "60000/60000 [==============================] - 96s 2ms/step - loss: 0.0231 - acc: 0.9926 - val_loss: 0.0319 - val_acc: 0.9890\n",
      "Epoch 5/12\n",
      "60000/60000 [==============================] - 94s 2ms/step - loss: 0.0172 - acc: 0.9943 - val_loss: 0.0271 - val_acc: 0.9909\n",
      "Epoch 6/12\n",
      "60000/60000 [==============================] - 618s 10ms/step - loss: 0.0142 - acc: 0.9956 - val_loss: 0.0311 - val_acc: 0.9909\n",
      "Epoch 7/12\n",
      "60000/60000 [==============================] - 100s 2ms/step - loss: 0.0122 - acc: 0.9960 - val_loss: 0.0371 - val_acc: 0.9899\n",
      "Epoch 8/12\n",
      "60000/60000 [==============================] - 95s 2ms/step - loss: 0.0100 - acc: 0.9966 - val_loss: 0.0234 - val_acc: 0.9926\n",
      "Epoch 9/12\n",
      "60000/60000 [==============================] - 97s 2ms/step - loss: 0.0090 - acc: 0.9973 - val_loss: 0.0250 - val_acc: 0.9920\n",
      "Epoch 10/12\n",
      "60000/60000 [==============================] - 96s 2ms/step - loss: 0.0065 - acc: 0.9976 - val_loss: 0.0364 - val_acc: 0.9914\n",
      "Epoch 11/12\n",
      "60000/60000 [==============================] - 98s 2ms/step - loss: 0.0083 - acc: 0.9972 - val_loss: 0.0341 - val_acc: 0.9897\n",
      "Epoch 12/12\n",
      "60000/60000 [==============================] - 101s 2ms/step - loss: 0.0064 - acc: 0.9978 - val_loss: 0.0353 - val_acc: 0.9909\n",
      "Test loss: 0.035289469616033374\n",
      "Test accuracy: 0.9909\n"
     ]
    }
   ],
   "source": [
    "import warnings\n",
    "warnings.filterwarnings(\"ignore\")\n",
    "history=model.fit(x_train, y_train,\n",
    "                  batch_size=batch_size,\n",
    "                  epochs=epochs,\n",
    "                  verbose=1,\n",
    "                  validation_data=(x_test, y_test))\n",
    "score = model.evaluate(x_test, y_test, verbose=0)\n",
    "print('Test loss:', score[0])\n",
    "print('Test accuracy:', score[1])"
   ]
  },
  {
   "cell_type": "code",
   "execution_count": 12,
   "metadata": {},
   "outputs": [
    {
     "name": "stdout",
     "output_type": "stream",
     "text": [
      "Train score: 0.008017680925130662\n",
      "Train accuracy: 99.74333333333333\n",
      "\n",
      "************************ *********************\n",
      "\n",
      "Test score: 0.035289469616033374\n",
      "Test accuracy: 99.09\n"
     ]
    },
    {
     "data": {
      "image/png": "[encoded data removed]",
      "text/plain": [
       "<Figure size 432x288 with 1 Axes>"
      ]
     },
     "metadata": {
      "needs_background": "light"
     },
     "output_type": "display_data"
    }
   ],
   "source": [
    "score = model.evaluate(x_train, y_train, verbose=0)\n",
    "print('Train score:', score[0])\n",
    "print('Train accuracy:', score[1]*100)\n",
    "print('\\n************************ *********************\\n')\n",
    "#test accuracy\n",
    "score = model.evaluate(x_test, y_test, verbose=0)\n",
    "print('Test score:', score[0])\n",
    "print('Test accuracy:', score[1]*100)\n",
    "# plot\n",
    "fig,ax = plt.subplots(1,1)\n",
    "ax.set_xlabel('epoch');\n",
    "ax.set_ylabel('Categorical Crossentropy Loss')\n",
    "x = list(range(1,12+1))\n",
    "vy = history.history['val_loss']\n",
    "ty = history.history['loss']\n",
    "plt_dynamic(x, vy, ty, ax)\n"
   ]
  },
  {
   "cell_type": "markdown",
   "metadata": {},
   "source": [
    "# Model 1-> 2 conv + 2 maxpoll+ 3 dense layer +Dropout (0.5)"
   ]
  },
  {
   "cell_type": "code",
   "execution_count": 13,
   "metadata": {},
   "outputs": [
    {
     "name": "stderr",
     "output_type": "stream",
     "text": [
      "W0822 20:24:07.094106  1320 deprecation.py:506] From C:\\anaconda\\lib\\site-packages\\keras\\backend\\tensorflow_backend.py:3445: calling dropout (from tensorflow.python.ops.nn_ops) with keep_prob is deprecated and will be removed in a future version.\n",
      "Instructions for updating:\n",
      "Please use `rate` instead of `keep_prob`. Rate should be set to `rate = 1 - keep_prob`.\n"
     ]
    },
    {
     "name": "stdout",
     "output_type": "stream",
     "text": [
      "_________________________________________________________________\n",
      "Layer (type)                 Output Shape              Param #   \n",
      "=================================================================\n",
      "conv2d_10 (Conv2D)           (None, 28, 28, 8)         80        \n",
      "_________________________________________________________________\n",
      "max_pooling2d_8 (MaxPooling2 (None, 14, 14, 8)         0         \n",
      "_________________________________________________________________\n",
      "conv2d_11 (Conv2D)           (None, 10, 10, 16)        3216      \n",
      "_________________________________________________________________\n",
      "max_pooling2d_9 (MaxPooling2 (None, 5, 5, 16)          0         \n",
      "_________________________________________________________________\n",
      "dropout_1 (Dropout)          (None, 5, 5, 16)          0         \n",
      "_________________________________________________________________\n",
      "flatten_4 (Flatten)          (None, 400)               0         \n",
      "_________________________________________________________________\n",
      "dense_8 (Dense)              (None, 120)               48120     \n",
      "_________________________________________________________________\n",
      "dense_9 (Dense)              (None, 84)                10164     \n",
      "_________________________________________________________________\n",
      "dense_10 (Dense)             (None, 10)                850       \n",
      "=================================================================\n",
      "Total params: 62,430\n",
      "Trainable params: 62,430\n",
      "Non-trainable params: 0\n",
      "_________________________________________________________________\n"
     ]
    }
   ],
   "source": [
    "#Same models with Dropouts\n",
    "import warnings\n",
    "warnings.filterwarnings(\"ignore\")\n",
    "# In this (First Model) lets follow the general structure of the lenet we will make a simple model\n",
    "# Network Architecture\n",
    "# input -> conv -> polling -> conv -> polling ->droupout-> FC -> FC -> output\n",
    "# 8 16 120 84 10\n",
    "model = Sequential()\n",
    "model.add(Conv2D(8, kernel_size=(3, 3),activation='relu',padding='same',input_shape=input_shape))\n",
    "model.add(MaxPooling2D(pool_size=(2, 2),strides=2))# for the location invariants\n",
    "model.add(Conv2D(16, (5, 5), activation='relu'))\n",
    "model.add(MaxPooling2D(pool_size=(2, 2),strides=2))# for the location invariants\n",
    "model.add(Dropout(0.5))\n",
    "model.add(Flatten())\n",
    "model.add(Dense(120, activation='relu'))\n",
    "model.add(Dense(84, activation='relu'))\n",
    "model.add(Dense(num_classes, activation='softmax'))\n",
    "model.compile(loss=keras.losses.categorical_crossentropy,\n",
    "optimizer=keras.optimizers.adam(),\n",
    "metrics=['accuracy'])\n",
    "# this will train the model and validate the model in this fit function\n",
    "model.summary()"
   ]
  },
  {
   "cell_type": "code",
   "execution_count": 14,
   "metadata": {},
   "outputs": [
    {
     "name": "stdout",
     "output_type": "stream",
     "text": [
      "Train on 60000 samples, validate on 10000 samples\n",
      "Epoch 1/12\n",
      "60000/60000 [==============================] - 31s 521us/step - loss: 0.4148 - acc: 0.8659 - val_loss: 0.0964 - val_acc: 0.9711\n",
      "Epoch 2/12\n",
      "60000/60000 [==============================] - 31s 516us/step - loss: 0.1344 - acc: 0.9582 - val_loss: 0.0558 - val_acc: 0.9816\n",
      "Epoch 3/12\n",
      "60000/60000 [==============================] - 30s 507us/step - loss: 0.1031 - acc: 0.9676 - val_loss: 0.0418 - val_acc: 0.9862\n",
      "Epoch 4/12\n",
      "60000/60000 [==============================] - 30s 508us/step - loss: 0.0873 - acc: 0.9731 - val_loss: 0.0376 - val_acc: 0.9866\n",
      "Epoch 5/12\n",
      "60000/60000 [==============================] - 30s 499us/step - loss: 0.0771 - acc: 0.9753 - val_loss: 0.0345 - val_acc: 0.9875\n",
      "Epoch 6/12\n",
      "60000/60000 [==============================] - 31s 509us/step - loss: 0.0713 - acc: 0.9780 - val_loss: 0.0326 - val_acc: 0.9886\n",
      "Epoch 7/12\n",
      "60000/60000 [==============================] - 30s 502us/step - loss: 0.0660 - acc: 0.9793 - val_loss: 0.0331 - val_acc: 0.9889\n",
      "Epoch 8/12\n",
      "60000/60000 [==============================] - 30s 504us/step - loss: 0.0611 - acc: 0.9798 - val_loss: 0.0299 - val_acc: 0.9904\n",
      "Epoch 9/12\n",
      "60000/60000 [==============================] - 31s 518us/step - loss: 0.0556 - acc: 0.9820 - val_loss: 0.0343 - val_acc: 0.9888\n",
      "Epoch 10/12\n",
      "60000/60000 [==============================] - 31s 509us/step - loss: 0.0536 - acc: 0.9824 - val_loss: 0.0274 - val_acc: 0.9910\n",
      "Epoch 11/12\n",
      "60000/60000 [==============================] - 30s 506us/step - loss: 0.0510 - acc: 0.9836 - val_loss: 0.0291 - val_acc: 0.9907\n",
      "Epoch 12/12\n",
      "60000/60000 [==============================] - 31s 518us/step - loss: 0.0475 - acc: 0.9847 - val_loss: 0.0258 - val_acc: 0.9922\n",
      "Test loss: 0.025816060557204763\n",
      "Test accuracy: 0.9922\n"
     ]
    }
   ],
   "source": [
    "history=model.fit(x_train, y_train,\n",
    "                  batch_size=batch_size,\n",
    "                  epochs=epochs,\n",
    "                  verbose=1,\n",
    "                  validation_data=(x_test, y_test))\n",
    "score = model.evaluate(x_test, y_test, verbose=0)\n",
    "print('Test loss:', score[0])\n",
    "print('Test accuracy:', score[1])"
   ]
  },
  {
   "cell_type": "code",
   "execution_count": 15,
   "metadata": {},
   "outputs": [
    {
     "name": "stdout",
     "output_type": "stream",
     "text": [
      "Train score: 0.015612688764524258\n",
      "Train accuracy: 99.53\n",
      "\n",
      "************************ *********************\n",
      "\n",
      "Test score: 0.025816060557204763\n",
      "Test accuracy: 99.22\n"
     ]
    },
    {
     "data": {
      "image/png": "[encoded data removed]",
      "text/plain": [
       "<Figure size 432x288 with 1 Axes>"
      ]
     },
     "metadata": {
      "needs_background": "light"
     },
     "output_type": "display_data"
    }
   ],
   "source": [
    "score = model.evaluate(x_train, y_train, verbose=0)\n",
    "print('Train score:', score[0])\n",
    "print('Train accuracy:', score[1]*100)\n",
    "print('\\n************************ *********************\\n')\n",
    "#test accuracy\n",
    "score = model.evaluate(x_test, y_test, verbose=0)\n",
    "print('Test score:', score[0])\n",
    "print('Test accuracy:', score[1]*100)\n",
    "# plot\n",
    "fig,ax = plt.subplots(1,1)\n",
    "ax.set_xlabel('epoch');\n",
    "ax.set_ylabel('Categorical Crossentropy Loss')\n",
    "x = list(range(1,12+1))\n",
    "vy = history.history['val_loss']\n",
    "ty = history.history['loss']\n",
    "plt_dynamic(x, vy, ty, ax)\n"
   ]
  },
  {
   "cell_type": "markdown",
   "metadata": {},
   "source": [
    "# Model 2-> 3 conv + 3 maxpoll+ 2 dense layers + Dropout (0.9)"
   ]
  },
  {
   "cell_type": "code",
   "execution_count": 16,
   "metadata": {},
   "outputs": [
    {
     "name": "stderr",
     "output_type": "stream",
     "text": [
      "W0822 20:30:38.725002  1320 nn_ops.py:4224] Large dropout rate: 0.9 (>0.5). In TensorFlow 2.x, dropout() uses dropout rate instead of keep_prob. Please ensure that this is intended.\n"
     ]
    },
    {
     "name": "stdout",
     "output_type": "stream",
     "text": [
      "_________________________________________________________________\n",
      "Layer (type)                 Output Shape              Param #   \n",
      "=================================================================\n",
      "conv2d_12 (Conv2D)           (None, 26, 26, 32)        320       \n",
      "_________________________________________________________________\n",
      "max_pooling2d_10 (MaxPooling (None, 13, 13, 32)        0         \n",
      "_________________________________________________________________\n",
      "conv2d_13 (Conv2D)           (None, 11, 11, 64)        18496     \n",
      "_________________________________________________________________\n",
      "max_pooling2d_11 (MaxPooling (None, 5, 5, 64)          0         \n",
      "_________________________________________________________________\n",
      "conv2d_14 (Conv2D)           (None, 3, 3, 128)         73856     \n",
      "_________________________________________________________________\n",
      "max_pooling2d_12 (MaxPooling (None, 1, 1, 128)         0         \n",
      "_________________________________________________________________\n",
      "dropout_2 (Dropout)          (None, 1, 1, 128)         0         \n",
      "_________________________________________________________________\n",
      "flatten_5 (Flatten)          (None, 128)               0         \n",
      "_________________________________________________________________\n",
      "dense_11 (Dense)             (None, 64)                8256      \n",
      "_________________________________________________________________\n",
      "dense_12 (Dense)             (None, 10)                650       \n",
      "=================================================================\n",
      "Total params: 101,578\n",
      "Trainable params: 101,578\n",
      "Non-trainable params: 0\n",
      "_________________________________________________________________\n"
     ]
    }
   ],
   "source": [
    "import warnings\n",
    "warnings.filterwarnings(\"ignore\")\n",
    "# go basic model to deep layer model\n",
    "# Network Architecture\n",
    "# input -> conv -> polling -> conv -> polling -> conv -> polling ->dropout-> FC -> output\n",
    "# 8 32 128 64\n",
    "model = Sequential()\n",
    "model.add(Conv2D(32, kernel_size=(3, 3),activation='relu',input_shape=input_shape))\n",
    "model.add(MaxPooling2D(pool_size=(2, 2),strides=2))# for the location invariants\n",
    "model.add(Conv2D(64, (3,3), activation='relu'))\n",
    "model.add(MaxPooling2D(pool_size=(2, 2),strides=2))# for the location invariants\n",
    "model.add(Conv2D(128, (3, 3), activation='relu'))\n",
    "model.add(MaxPooling2D(pool_size=(2, 2),strides=2))# for the location invariants\n",
    "model.add(Dropout(0.9))\n",
    "model.add(Flatten())\n",
    "model.add(Dense(64, activation='relu'))\n",
    "model.add(Dense(num_classes, activation='softmax'))\n",
    "model.compile(loss=keras.losses.categorical_crossentropy,\n",
    "optimizer=keras.optimizers.adam(),\n",
    "metrics=['accuracy'])\n",
    "# this will train the model and validate the model in this fit function\n",
    "model.summary()"
   ]
  },
  {
   "cell_type": "code",
   "execution_count": 17,
   "metadata": {},
   "outputs": [
    {
     "name": "stdout",
     "output_type": "stream",
     "text": [
      "Train on 60000 samples, validate on 10000 samples\n",
      "Epoch 1/12\n",
      "60000/60000 [==============================] - 64s 1ms/step - loss: 1.2593 - acc: 0.5415 - val_loss: 0.2457 - val_acc: 0.9450\n",
      "Epoch 2/12\n",
      "60000/60000 [==============================] - 64s 1ms/step - loss: 0.7342 - acc: 0.7326 - val_loss: 0.1495 - val_acc: 0.9600\n",
      "Epoch 3/12\n",
      "60000/60000 [==============================] - 63s 1ms/step - loss: 0.6122 - acc: 0.7760 - val_loss: 0.1151 - val_acc: 0.9683\n",
      "Epoch 4/12\n",
      "60000/60000 [==============================] - 63s 1ms/step - loss: 0.5505 - acc: 0.8000 - val_loss: 0.0934 - val_acc: 0.9736\n",
      "Epoch 5/12\n",
      "60000/60000 [==============================] - 63s 1ms/step - loss: 0.5010 - acc: 0.8188 - val_loss: 0.0850 - val_acc: 0.9754\n",
      "Epoch 6/12\n",
      "60000/60000 [==============================] - 63s 1ms/step - loss: 0.4635 - acc: 0.8331 - val_loss: 0.0811 - val_acc: 0.9762\n",
      "Epoch 7/12\n",
      "60000/60000 [==============================] - 64s 1ms/step - loss: 0.4433 - acc: 0.8416 - val_loss: 0.0809 - val_acc: 0.9760\n",
      "Epoch 8/12\n",
      "60000/60000 [==============================] - 63s 1ms/step - loss: 0.4183 - acc: 0.8507 - val_loss: 0.0802 - val_acc: 0.9774\n",
      "Epoch 9/12\n",
      "60000/60000 [==============================] - 64s 1ms/step - loss: 0.4049 - acc: 0.8554 - val_loss: 0.0757 - val_acc: 0.9776\n",
      "Epoch 10/12\n",
      "60000/60000 [==============================] - 64s 1ms/step - loss: 0.3944 - acc: 0.8621 - val_loss: 0.0768 - val_acc: 0.9764\n",
      "Epoch 11/12\n",
      "60000/60000 [==============================] - 64s 1ms/step - loss: 0.3740 - acc: 0.8681 - val_loss: 0.0769 - val_acc: 0.9781\n",
      "Epoch 12/12\n",
      "60000/60000 [==============================] - 64s 1ms/step - loss: 0.3656 - acc: 0.8723 - val_loss: 0.0715 - val_acc: 0.9796\n",
      "Test loss: 0.07153915164452046\n",
      "Test accuracy: 0.9796\n"
     ]
    }
   ],
   "source": [
    "history=model.fit(x_train, y_train,\n",
    "batch_size=batch_size,\n",
    "epochs=epochs,\n",
    "verbose=1,\n",
    "validation_data=(x_test, y_test))\n",
    "score = model.evaluate(x_test, y_test, verbose=0)\n",
    "print('Test loss:', score[0])\n",
    "print('Test accuracy:', score[1])"
   ]
  },
  {
   "cell_type": "code",
   "execution_count": 18,
   "metadata": {},
   "outputs": [
    {
     "data": {
      "text/plain": [
       "<keras.layers.normalization.BatchNormalization at 0x1dca2053cf8>"
      ]
     },
     "execution_count": 18,
     "metadata": {},
     "output_type": "execute_result"
    }
   ],
   "source": [
    "keras.layers.BatchNormalization(axis=-1, momentum=0.99, epsilon=0.001, center=True, scale=True, beta_initializer='zeros', gamma_initializer='ones', moving_mean_initializer='zeros', moving_variance_initializer='ones', beta_regularizer=None, gamma_regularizer=None, beta_constraint=None, gamma_constraint=None)"
   ]
  },
  {
   "cell_type": "markdown",
   "metadata": {},
   "source": [
    "# Model 3-> 4 conv + 2 maxpoll+ 2 dense layers + Dropout (0.3)"
   ]
  },
  {
   "cell_type": "code",
   "execution_count": 19,
   "metadata": {},
   "outputs": [
    {
     "name": "stdout",
     "output_type": "stream",
     "text": [
      "_________________________________________________________________\n",
      "Layer (type)                 Output Shape              Param #   \n",
      "=================================================================\n",
      "conv2d_15 (Conv2D)           (None, 28, 28, 16)        160       \n",
      "_________________________________________________________________\n",
      "conv2d_16 (Conv2D)           (None, 28, 28, 16)        2320      \n",
      "_________________________________________________________________\n",
      "max_pooling2d_13 (MaxPooling (None, 14, 14, 16)        0         \n",
      "_________________________________________________________________\n",
      "conv2d_17 (Conv2D)           (None, 12, 12, 32)        4640      \n",
      "_________________________________________________________________\n",
      "conv2d_18 (Conv2D)           (None, 10, 10, 32)        9248      \n",
      "_________________________________________________________________\n",
      "max_pooling2d_14 (MaxPooling (None, 5, 5, 32)          0         \n",
      "_________________________________________________________________\n",
      "dropout_3 (Dropout)          (None, 5, 5, 32)          0         \n",
      "_________________________________________________________________\n",
      "flatten_6 (Flatten)          (None, 800)               0         \n",
      "_________________________________________________________________\n",
      "dense_13 (Dense)             (None, 512)               410112    \n",
      "_________________________________________________________________\n",
      "dense_14 (Dense)             (None, 10)                5130      \n",
      "=================================================================\n",
      "Total params: 431,610\n",
      "Trainable params: 431,610\n",
      "Non-trainable params: 0\n",
      "_________________________________________________________________\n"
     ]
    }
   ],
   "source": [
    "\n",
    "# go basic model to deep layer model\n",
    "# Network Architecture\n",
    "# input -> conv -> conv -> polling -> conv -> conv -> polling ->dropout-> FC -> output\n",
    "# 16 16 32 32 512\n",
    "model = Sequential()\n",
    "model.add(Conv2D(16, kernel_size=(3, 3),activation='relu',padding='same',input_shape=input_shape))\n",
    "model.add(Conv2D(16,(3, 3),activation='relu',padding='same'))\n",
    "model.add(MaxPooling2D(pool_size=(2, 2),strides=2))# for the location invariants\n",
    "model.add(Conv2D(32, (3,3), activation='relu'))\n",
    "model.add(Conv2D(32, (3,3), activation='relu'))\n",
    "model.add(MaxPooling2D(pool_size=(2, 2),strides=2))# for the location invariants\n",
    "model.add(Dropout(0.3))\n",
    "model.add(Flatten())\n",
    "model.add(Dense(512, activation='relu'))\n",
    "model.add(Dense(num_classes, activation='softmax'))\n",
    "model.compile(loss=keras.losses.categorical_crossentropy,\n",
    "optimizer=keras.optimizers.adam(),\n",
    "metrics=['accuracy'])\n",
    "# this will train the model and validate the model in this fit function\n",
    "model.summary()"
   ]
  },
  {
   "cell_type": "code",
   "execution_count": 20,
   "metadata": {},
   "outputs": [
    {
     "name": "stdout",
     "output_type": "stream",
     "text": [
      "Train on 60000 samples, validate on 10000 samples\n",
      "Epoch 1/12\n",
      "60000/60000 [==============================] - 105s 2ms/step - loss: 0.2071 - acc: 0.9358 - val_loss: 0.0434 - val_acc: 0.9860\n",
      "Epoch 2/12\n",
      "60000/60000 [==============================] - 104s 2ms/step - loss: 0.0574 - acc: 0.9824 - val_loss: 0.0301 - val_acc: 0.9898\n",
      "Epoch 3/12\n",
      "60000/60000 [==============================] - 103s 2ms/step - loss: 0.0417 - acc: 0.9864 - val_loss: 0.0305 - val_acc: 0.9902\n",
      "Epoch 4/12\n",
      "60000/60000 [==============================] - 105s 2ms/step - loss: 0.0335 - acc: 0.9890 - val_loss: 0.0236 - val_acc: 0.9920\n",
      "Epoch 5/12\n",
      "60000/60000 [==============================] - 108s 2ms/step - loss: 0.0264 - acc: 0.9913 - val_loss: 0.0227 - val_acc: 0.9921\n",
      "Epoch 6/12\n",
      "60000/60000 [==============================] - 105s 2ms/step - loss: 0.0238 - acc: 0.9921 - val_loss: 0.0274 - val_acc: 0.9917\n",
      "Epoch 7/12\n",
      "60000/60000 [==============================] - 102s 2ms/step - loss: 0.0206 - acc: 0.9934 - val_loss: 0.0287 - val_acc: 0.9909\n",
      "Epoch 8/12\n",
      "60000/60000 [==============================] - 104s 2ms/step - loss: 0.0174 - acc: 0.9944 - val_loss: 0.0230 - val_acc: 0.9929\n",
      "Epoch 9/12\n",
      "60000/60000 [==============================] - 104s 2ms/step - loss: 0.0151 - acc: 0.9951 - val_loss: 0.0222 - val_acc: 0.9928\n",
      "Epoch 10/12\n",
      "60000/60000 [==============================] - 103s 2ms/step - loss: 0.0151 - acc: 0.9951 - val_loss: 0.0202 - val_acc: 0.9942\n",
      "Epoch 11/12\n",
      "60000/60000 [==============================] - 103s 2ms/step - loss: 0.0136 - acc: 0.9952 - val_loss: 0.0265 - val_acc: 0.9923\n",
      "Epoch 12/12\n",
      "60000/60000 [==============================] - 104s 2ms/step - loss: 0.0127 - acc: 0.9958 - val_loss: 0.0281 - val_acc: 0.9921\n",
      "Test loss: 0.0280865813530756\n",
      "Test accuracy: 0.9921\n"
     ]
    }
   ],
   "source": [
    "history=model.fit(x_train, y_train,\n",
    "batch_size=batch_size,\n",
    "epochs=epochs,\n",
    "verbose=1,\n",
    "validation_data=(x_test, y_test))\n",
    "score = model.evaluate(x_test, y_test, verbose=0)\n",
    "print('Test loss:', score[0])\n",
    "print('Test accuracy:', score[1])"
   ]
  },
  {
   "cell_type": "code",
   "execution_count": 21,
   "metadata": {},
   "outputs": [
    {
     "name": "stdout",
     "output_type": "stream",
     "text": [
      "Train score: 0.006600003199334939\n",
      "Train accuracy: 99.77666666666667\n",
      "\n",
      "************************ *********************\n",
      "\n",
      "Test score: 0.0280865813530756\n",
      "Test accuracy: 99.21\n"
     ]
    },
    {
     "data": {
      "image/png": "[encoded data removed]",
      "text/plain": [
       "<Figure size 432x288 with 1 Axes>"
      ]
     },
     "metadata": {
      "needs_background": "light"
     },
     "output_type": "display_data"
    }
   ],
   "source": [
    "score = model.evaluate(x_train, y_train, verbose=0)\n",
    "print('Train score:', score[0])\n",
    "print('Train accuracy:', score[1]*100)\n",
    "print('\\n************************ *********************\\n')\n",
    "#test accuracy\n",
    "score = model.evaluate(x_test, y_test, verbose=0)\n",
    "print('Test score:', score[0])\n",
    "print('Test accuracy:', score[1]*100)\n",
    "# plot\n",
    "fig,ax = plt.subplots(1,1)\n",
    "ax.set_xlabel('epoch');\n",
    "ax.set_ylabel('Categorical Crossentropy Loss')\n",
    "x = list(range(1,12+1))\n",
    "vy = history.history['val_loss']\n",
    "ty = history.history['loss']\n",
    "plt_dynamic(x, vy, ty, ax)"
   ]
  },
  {
   "cell_type": "markdown",
   "metadata": {},
   "source": [
    "# MLP + ReLU +SGD"
   ]
  },
  {
   "cell_type": "code",
   "execution_count": 35,
   "metadata": {},
   "outputs": [],
   "source": [
    "from keras.initializers import RandomNormal\n",
    "from keras.layers import Activation, Dense\n",
    "from keras.initializers import RandomNormal\n",
    "#from keras.utils.visualize_util import to_graph\n",
    "from keras.models import Sequential"
   ]
  },
  {
   "cell_type": "code",
   "execution_count": 39,
   "metadata": {},
   "outputs": [],
   "source": [
    "import warnings\n",
    "warnings.filterwarnings(\"ignore\")\n",
    "# if you keras is not using tensorflow as backend set \"KERAS_BACKEND=tensorflow\" use this command\n",
    "from keras.utils import np_utils\n",
    "from keras.datasets import mnist\n",
    "import seaborn as sns\n",
    "from keras.initializers import RandomNormal\n",
    "#from keras.utils.visualize_util import to_graph\n",
    "from keras.models import Sequential\n",
    "#to_graph(Sequential())"
   ]
  },
  {
   "cell_type": "code",
   "execution_count": 29,
   "metadata": {},
   "outputs": [],
   "source": [
    "%matplotlib notebook\n",
    "%matplotlib inline\n",
    "import matplotlib.pyplot as plt\n",
    "import numpy as np\n",
    "import time\n",
    "# https://gist.github.com/greydanus/f6eee59eaf1d90fcb3b534a25362cea4\n",
    "# https://stackoverflow.com/a/14434334\n",
    "# this function is used to update the plots for each epoch and error\n",
    "def plt_dynamic(x, vy, ty, ax, colors=['b']):\n",
    "    ax.plot(x, vy, 'b', label=\"Validation Loss\")\n",
    "    ax.plot(x, ty, 'r', label=\"Train Loss\")\n",
    "    plt.legend()\n",
    "    plt.grid()\n",
    "    fig.canvas.draw()"
   ]
  },
  {
   "cell_type": "code",
   "execution_count": 30,
   "metadata": {},
   "outputs": [],
   "source": [
    "# the data, shuffled and split between train and test sets\n",
    "(X_train, y_train), (X_test, y_test) = mnist.load_data()"
   ]
  },
  {
   "cell_type": "code",
   "execution_count": 31,
   "metadata": {},
   "outputs": [
    {
     "name": "stdout",
     "output_type": "stream",
     "text": [
      "Number of training examples : 60000 and each image is of shape (28, 28)\n",
      "Number of training examples : 10000 and each image is of shape (28,28)\n"
     ]
    }
   ],
   "source": [
    "print(\"Number of training examples :\", X_train.shape[0], \"and each image is of shape (%d, %d)\"%(X_train.shape[1], X_train.shape[2]))\n",
    "print(\"Number of training examples :\", X_test.shape[0], \"and each image is of shape (%d,%d)\"%(X_test.shape[1], X_test.shape[2]))\n"
   ]
  },
  {
   "cell_type": "code",
   "execution_count": 32,
   "metadata": {},
   "outputs": [
    {
     "name": "stdout",
     "output_type": "stream",
     "text": [
      "Number of training examples : 60000 and each image is of shape(784)\n",
      "Number of training examples : 10000 and each image is of shape (784)\n"
     ]
    }
   ],
   "source": [
    "# if you observe the input shape its 2 dimensional vector\n",
    "# for each image we have a (28*28) vector\n",
    "# we will convert the (28*28) vector into single dimensional vector of 1 * 784\n",
    "X_train = X_train.reshape(X_train.shape[0], X_train.shape[1]*X_train.shape[2])\n",
    "X_test = X_test.reshape(X_test.shape[0], X_test.shape[1]*X_test.shape[2])\n",
    "# after converting the input images from 3d to 2d vectors\n",
    "print(\"Number of training examples :\", X_train.shape[0], \"and each image is of shape(%d)\"%(X_train.shape[1]))\n",
    "print(\"Number of training examples :\", X_test.shape[0], \"and each image is of shape (%d)\"%(X_test.shape[1]))"
   ]
  },
  {
   "cell_type": "code",
   "execution_count": 33,
   "metadata": {},
   "outputs": [],
   "source": [
    "# if we observe the above matrix each cell is having a value between 0-255\n",
    "# before we move to apply machine learning algorithms lets try to normalize the data\n",
    "# X => (X - Xmin)/(Xmax-Xmin) = X/255\n",
    "X_train = X_train/255\n",
    "X_test = X_test/255"
   ]
  },
  {
   "cell_type": "code",
   "execution_count": 40,
   "metadata": {},
   "outputs": [
    {
     "name": "stdout",
     "output_type": "stream",
     "text": [
      "Class label of first image : 5\n",
      "After converting the output into a vector :  [0. 0. 0. 0. 0. 1. 0. 0. 0. 0.]\n"
     ]
    }
   ],
   "source": [
    "# here we are having a class number for each image\n",
    "print(\"Class label of first image :\", y_train[0])\n",
    "# lets convert this into a 10 dimensional vector\n",
    "# ex: consider an image is 5 convert it into 5 => [0, 0, 0, 0, 0, 1, 0, 0, 0, 0]\n",
    "# this conversion needed for MLPs\n",
    "Y_train = np_utils.to_categorical(y_train, 10)\n",
    "Y_test = np_utils.to_categorical(y_test, 10)\n",
    "\n",
    "print(\"After converting the output into a vector : \",Y_train[0])"
   ]
  },
  {
   "cell_type": "code",
   "execution_count": 41,
   "metadata": {},
   "outputs": [
    {
     "name": "stdout",
     "output_type": "stream",
     "text": [
      "784\n"
     ]
    }
   ],
   "source": [
    "# some model parameters\n",
    "output_dim = 10\n",
    "input_dim = X_train.shape[1]\n",
    "\n",
    "batch_size = 112\n",
    "nb_epoch = 20\n",
    "print(input_dim)"
   ]
  },
  {
   "cell_type": "code",
   "execution_count": 43,
   "metadata": {},
   "outputs": [
    {
     "name": "stdout",
     "output_type": "stream",
     "text": [
      "_________________________________________________________________\n",
      "Layer (type)                 Output Shape              Param #   \n",
      "=================================================================\n",
      "dense_19 (Dense)             (None, 512)               401920    \n",
      "_________________________________________________________________\n",
      "dense_20 (Dense)             (None, 128)               65664     \n",
      "_________________________________________________________________\n",
      "dense_21 (Dense)             (None, 10)                1290      \n",
      "=================================================================\n",
      "Total params: 468,874\n",
      "Trainable params: 468,874\n",
      "Non-trainable params: 0\n",
      "_________________________________________________________________\n"
     ]
    }
   ],
   "source": [
    "# Multilayer perceptron\n",
    "\n",
    "# https://arxiv.org/pdf/1707.09725.pdf#page=95\n",
    "# for relu layers\n",
    "# If we sample weights from a normal distribution N(0,σ) we satisfy this condition with σ=√(2/(ni). \n",
    "# h1 =>  σ=√(2/(fan_in) = 0.062  => N(0,σ) = N(0,0.062)\n",
    "# h2 =>  σ=√(2/(fan_in) = 0.125  => N(0,σ) = N(0,0.125)\n",
    "# out =>  σ=√(2/(fan_in+1) = 0.120  => N(0,σ) = N(0,0.120)\n",
    "model_relu = Sequential()\n",
    "model_relu.add(Dense(512, activation='relu', input_shape=(input_dim,), kernel_initializer=RandomNormal(mean=0.0, stddev=0.062, seed=None)))\n",
    "model_relu.add(Dense(128, activation='relu', kernel_initializer=RandomNormal(mean=0.0, stddev=0.125, seed=None)) )\n",
    "model_relu.add(Dense(output_dim, activation='softmax'))\n",
    "\n",
    "model_relu.summary()"
   ]
  },
  {
   "cell_type": "code",
   "execution_count": 46,
   "metadata": {},
   "outputs": [
    {
     "name": "stdout",
     "output_type": "stream",
     "text": [
      "Train on 60000 samples, validate on 10000 samples\n",
      "Epoch 1/20\n",
      "60000/60000 [==============================] - 9s 158us/step - loss: 0.6941 - acc: 0.8031 - val_loss: 0.3673 - val_acc: 0.8982\n",
      "Epoch 2/20\n",
      "60000/60000 [==============================] - 8s 126us/step - loss: 0.3322 - acc: 0.9054 - val_loss: 0.2906 - val_acc: 0.9160\n",
      "Epoch 3/20\n",
      "60000/60000 [==============================] - 8s 127us/step - loss: 0.2754 - acc: 0.9218 - val_loss: 0.2532 - val_acc: 0.9261\n",
      "Epoch 4/20\n",
      "60000/60000 [==============================] - 7s 120us/step - loss: 0.2426 - acc: 0.9308 - val_loss: 0.2306 - val_acc: 0.9325\n",
      "Epoch 5/20\n",
      "60000/60000 [==============================] - 7s 124us/step - loss: 0.2193 - acc: 0.9381 - val_loss: 0.2141 - val_acc: 0.9378\n",
      "Epoch 6/20\n",
      "60000/60000 [==============================] - 7s 125us/step - loss: 0.2013 - acc: 0.9430 - val_loss: 0.1987 - val_acc: 0.9421\n",
      "Epoch 7/20\n",
      "60000/60000 [==============================] - 7s 121us/step - loss: 0.1864 - acc: 0.9470 - val_loss: 0.1898 - val_acc: 0.9453\n",
      "Epoch 8/20\n",
      "60000/60000 [==============================] - 7s 124us/step - loss: 0.1740 - acc: 0.9511 - val_loss: 0.1775 - val_acc: 0.9472\n",
      "Epoch 9/20\n",
      "60000/60000 [==============================] - 7s 115us/step - loss: 0.1634 - acc: 0.9538 - val_loss: 0.1692 - val_acc: 0.9486\n",
      "Epoch 10/20\n",
      "60000/60000 [==============================] - 7s 117us/step - loss: 0.1538 - acc: 0.9571 - val_loss: 0.1606 - val_acc: 0.9518\n",
      "Epoch 11/20\n",
      "60000/60000 [==============================] - 7s 114us/step - loss: 0.1455 - acc: 0.9596 - val_loss: 0.1554 - val_acc: 0.9529\n",
      "Epoch 12/20\n",
      "60000/60000 [==============================] - 7s 115us/step - loss: 0.1379 - acc: 0.9616 - val_loss: 0.1505 - val_acc: 0.9541\n",
      "Epoch 13/20\n",
      "60000/60000 [==============================] - 7s 115us/step - loss: 0.1312 - acc: 0.9635 - val_loss: 0.1478 - val_acc: 0.9553\n",
      "Epoch 14/20\n",
      "60000/60000 [==============================] - 7s 116us/step - loss: 0.1251 - acc: 0.9652 - val_loss: 0.1399 - val_acc: 0.9584\n",
      "Epoch 15/20\n",
      "60000/60000 [==============================] - 7s 115us/step - loss: 0.1196 - acc: 0.9667 - val_loss: 0.1357 - val_acc: 0.9591\n",
      "Epoch 16/20\n",
      "60000/60000 [==============================] - 7s 115us/step - loss: 0.1143 - acc: 0.9681 - val_loss: 0.1313 - val_acc: 0.9604\n",
      "Epoch 17/20\n",
      "60000/60000 [==============================] - 7s 116us/step - loss: 0.1096 - acc: 0.9699 - val_loss: 0.1282 - val_acc: 0.9605\n",
      "Epoch 18/20\n",
      "60000/60000 [==============================] - 7s 114us/step - loss: 0.1052 - acc: 0.9710 - val_loss: 0.1246 - val_acc: 0.9616\n",
      "Epoch 19/20\n",
      "60000/60000 [==============================] - 7s 120us/step - loss: 0.1013 - acc: 0.9723 - val_loss: 0.1203 - val_acc: 0.9629\n",
      "Epoch 20/20\n",
      "60000/60000 [==============================] - 7s 114us/step - loss: 0.0975 - acc: 0.9732 - val_loss: 0.1187 - val_acc: 0.9634\n"
     ]
    }
   ],
   "source": [
    "model_relu.compile(optimizer='sgd', loss='categorical_crossentropy', metrics=['accuracy'])\n",
    "\n",
    "history = model_relu.fit(X_train, Y_train, batch_size=batch_size, epochs=nb_epoch, verbose=1, validation_data=(X_test, Y_test))"
   ]
  },
  {
   "cell_type": "code",
   "execution_count": 48,
   "metadata": {},
   "outputs": [
    {
     "name": "stdout",
     "output_type": "stream",
     "text": [
      "Train score: 0.09366472623236477\n",
      "Train accuracy: 97.47666666666667\n",
      "\n",
      "************************ *********************\n",
      "\n",
      "Test score: 0.11871300079077482\n",
      "Test accuracy: 96.34\n"
     ]
    },
    {
     "data": {
      "image/png": "[encoded data removed]",
      "text/plain": [
       "<Figure size 432x288 with 1 Axes>"
      ]
     },
     "metadata": {
      "needs_background": "light"
     },
     "output_type": "display_data"
    }
   ],
   "source": [
    "#Evaluate your model with accuracy and plot of (NUmber of epoches VS train_and_val_loss)\n",
    "#Train accuracy\n",
    "score = model_relu.evaluate(X_train, Y_train, verbose=0)\n",
    "print('Train score:', score[0])\n",
    "print('Train accuracy:', score[1]*100)\n",
    "print('\\n************************ *********************\\n')\n",
    "#test accuracy\n",
    "score = model_relu.evaluate(X_test, Y_test, verbose=0)\n",
    "print('Test score:', score[0])\n",
    "print('Test accuracy:', score[1]*100)\n",
    "\n",
    "fig,ax = plt.subplots(1,1)\n",
    "ax.set_xlabel('epoch') ; ax.set_ylabel('Categorical Crossentropy Loss')\n",
    "# list of epoch numbers\n",
    "x = list(range(1,nb_epoch+1))\n",
    "# print(history.history.keys())\n",
    "# dict_keys(['val_loss', 'val_acc', 'loss', 'acc'])\n",
    "# history = model_drop.fit(X_train, Y_train, batch_size=batch_size, epochs=nb_epoch, verbose=1, validation_data=(X_test, Y_test))\n",
    "# we will get val_loss and val_acc only when you pass the paramter validation_data\n",
    "# val_loss : validation loss\n",
    "# val_acc : validation accuracy\n",
    "# loss : training loss\n",
    "# acc : train accuracy\n",
    "# for each key in histrory.histrory we will have a list of length equal to number of epochs\n",
    "vy = history.history['val_loss']\n",
    "ty = history.history['loss']\n",
    "plt_dynamic(x, vy, ty, ax)"
   ]
  },
  {
   "cell_type": "code",
   "execution_count": 49,
   "metadata": {},
   "outputs": [
    {
     "data": {
      "image/png": "[encoded data removed]",
      "text/plain": [
       "<Figure size 432x288 with 3 Axes>"
      ]
     },
     "metadata": {
      "needs_background": "light"
     },
     "output_type": "display_data"
    }
   ],
   "source": [
    "w_after = model_relu.get_weights()\n",
    "\n",
    "h1_w = w_after[0].flatten().reshape(-1,1)\n",
    "h2_w = w_after[2].flatten().reshape(-1,1)\n",
    "out_w = w_after[4].flatten().reshape(-1,1)\n",
    "\n",
    "\n",
    "fig = plt.figure()\n",
    "plt.title(\"Weight matrices after model trained\")\n",
    "plt.subplot(1, 3, 1)\n",
    "plt.title(\"Trained model Weights\")\n",
    "\n",
    "ax = sns.violinplot(y=h1_w,color='b')\n",
    "plt.xlabel('Hidden Layer 1')\n",
    "\n",
    "plt.subplot(1, 3, 2)\n",
    "plt.title(\"Trained model Weights\")\n",
    "ax = sns.violinplot(y=h2_w, color='r')\n",
    "plt.xlabel('Hidden Layer 2 ')\n",
    "\n",
    "plt.subplot(1, 3, 3)\n",
    "plt.title(\"Trained model Weights\")\n",
    "ax = sns.violinplot(y=out_w,color='y')\n",
    "plt.xlabel('Output Layer ')\n",
    "plt.show()"
   ]
  },
  {
   "cell_type": "markdown",
   "metadata": {},
   "source": [
    "# MLP + ReLU + adam"
   ]
  },
  {
   "cell_type": "code",
   "execution_count": 59,
   "metadata": {},
   "outputs": [
    {
     "name": "stdout",
     "output_type": "stream",
     "text": [
      "_________________________________________________________________\n",
      "Layer (type)                 Output Shape              Param #   \n",
      "=================================================================\n",
      "dense_22 (Dense)             (None, 610)               478850    \n",
      "_________________________________________________________________\n",
      "dense_23 (Dense)             (None, 420)               256620    \n",
      "_________________________________________________________________\n",
      "dense_24 (Dense)             (None, 210)               88410     \n",
      "_________________________________________________________________\n",
      "dense_25 (Dense)             (None, 10)                2110      \n",
      "=================================================================\n",
      "Total params: 825,990\n",
      "Trainable params: 825,990\n",
      "Non-trainable params: 0\n",
      "_________________________________________________________________\n"
     ]
    }
   ],
   "source": [
    "# Multilayer perceptron\n",
    "# https://arxiv.org/pdf/1707.09725.pdf#page=95\n",
    "# for relu layers\n",
    "# If we sample weights from a normal distribution N(0,σ) we satisfy this condition with σ=√(2/(ni).\n",
    "# h1 => σ=√(2/(fan_in) = 0.062 => N(0,σ) = N(0,0.062)\n",
    "# h2 => σ=√(2/(fan_in) = 0.125 => N(0,σ) = N(0,0.125)\n",
    "# out => σ=√(2/(fan_in+1) = 0.120 => N(0,σ) = N(0,0.120)\n",
    "model_relu = Sequential()\n",
    "model_relu.add(Dense(610, activation='relu', input_shape=(input_dim,), kernel_initializer=RandomNormal(mean=0.0, stddev=0.062, seed=None)))\n",
    "model_relu.add(Dense(420, activation='relu', kernel_initializer=RandomNormal(mean=0.0, stddev=0.125, seed=None)) )\n",
    "model_relu.add(Dense(210, activation='relu', kernel_initializer=RandomNormal(mean=0.0, stddev=0.125, seed=None)) )\n",
    "model_relu.add(Dense(output_dim, activation='softmax'))\n",
    "model_relu.summary()"
   ]
  },
  {
   "cell_type": "code",
   "execution_count": 60,
   "metadata": {},
   "outputs": [
    {
     "name": "stdout",
     "output_type": "stream",
     "text": [
      "Train on 60000 samples, validate on 10000 samples\n",
      "Epoch 1/20\n",
      "60000/60000 [==============================] - 20s 332us/step - loss: 0.2089 - acc: 0.9367 - val_loss: 0.1186 - val_acc: 0.9628\n",
      "Epoch 2/20\n",
      "60000/60000 [==============================] - 18s 296us/step - loss: 0.0774 - acc: 0.9760 - val_loss: 0.0833 - val_acc: 0.9712\n",
      "Epoch 3/20\n",
      "60000/60000 [==============================] - 17s 288us/step - loss: 0.0534 - acc: 0.9828 - val_loss: 0.0771 - val_acc: 0.9761\n",
      "Epoch 4/20\n",
      "60000/60000 [==============================] - 17s 285us/step - loss: 0.0382 - acc: 0.9875 - val_loss: 0.0848 - val_acc: 0.9758\n",
      "Epoch 5/20\n",
      "60000/60000 [==============================] - 17s 286us/step - loss: 0.0317 - acc: 0.9894 - val_loss: 0.0901 - val_acc: 0.9757: 0.0313 \n",
      "Epoch 6/20\n",
      "60000/60000 [==============================] - 17s 291us/step - loss: 0.0284 - acc: 0.9910 - val_loss: 0.1089 - val_acc: 0.9724\n",
      "Epoch 7/20\n",
      "60000/60000 [==============================] - 17s 287us/step - loss: 0.0242 - acc: 0.9918 - val_loss: 0.0929 - val_acc: 0.9756\n",
      "Epoch 8/20\n",
      "60000/60000 [==============================] - 17s 286us/step - loss: 0.0269 - acc: 0.9910 - val_loss: 0.0952 - val_acc: 0.9736\n",
      "Epoch 9/20\n",
      "60000/60000 [==============================] - 17s 285us/step - loss: 0.0211 - acc: 0.9929 - val_loss: 0.0980 - val_acc: 0.9781\n",
      "Epoch 10/20\n",
      "60000/60000 [==============================] - 17s 287us/step - loss: 0.0146 - acc: 0.9953 - val_loss: 0.0953 - val_acc: 0.9767\n",
      "Epoch 11/20\n",
      "60000/60000 [==============================] - 17s 282us/step - loss: 0.0240 - acc: 0.9921 - val_loss: 0.1249 - val_acc: 0.9711\n",
      "Epoch 12/20\n",
      "60000/60000 [==============================] - 17s 286us/step - loss: 0.0145 - acc: 0.9956 - val_loss: 0.1062 - val_acc: 0.9778\n",
      "Epoch 13/20\n",
      "60000/60000 [==============================] - 17s 287us/step - loss: 0.0150 - acc: 0.9950 - val_loss: 0.1155 - val_acc: 0.9741\n",
      "Epoch 14/20\n",
      "60000/60000 [==============================] - 17s 284us/step - loss: 0.0158 - acc: 0.9951 - val_loss: 0.0927 - val_acc: 0.9777\n",
      "Epoch 15/20\n",
      "60000/60000 [==============================] - 17s 280us/step - loss: 0.0112 - acc: 0.9965 - val_loss: 0.0951 - val_acc: 0.9791\n",
      "Epoch 16/20\n",
      "60000/60000 [==============================] - 17s 280us/step - loss: 0.0145 - acc: 0.9955 - val_loss: 0.1145 - val_acc: 0.9785\n",
      "Epoch 17/20\n",
      "60000/60000 [==============================] - 17s 284us/step - loss: 0.0140 - acc: 0.9955 - val_loss: 0.0951 - val_acc: 0.9800\n",
      "Epoch 18/20\n",
      "60000/60000 [==============================] - 17s 284us/step - loss: 0.0099 - acc: 0.9972 - val_loss: 0.1026 - val_acc: 0.9800\n",
      "Epoch 19/20\n",
      "60000/60000 [==============================] - 17s 282us/step - loss: 0.0115 - acc: 0.9967 - val_loss: 0.1191 - val_acc: 0.9747\n",
      "Epoch 20/20\n",
      "60000/60000 [==============================] - 18s 292us/step - loss: 0.0143 - acc: 0.9960 - val_loss: 0.0978 - val_acc: 0.9808\n"
     ]
    }
   ],
   "source": [
    "model_relu.compile(optimizer='adam', loss='categorical_crossentropy', metrics=['accuracy'])\n",
    "history = model_relu.fit(X_train, Y_train, batch_size=batch_size, epochs=nb_epoch, verbose=1, validation_data=(X_test, Y_test))"
   ]
  },
  {
   "cell_type": "code",
   "execution_count": 61,
   "metadata": {},
   "outputs": [
    {
     "name": "stdout",
     "output_type": "stream",
     "text": [
      "Train score: 0.008483383478405585\n",
      "Train accuracy: 99.72666666666666\n",
      "\n",
      "************************ *********************\n",
      "\n",
      "Test score: 0.09776807529597008\n",
      "Test accuracy: 98.08\n"
     ]
    },
    {
     "data": {
      "image/png": "[encoded data removed]",
      "text/plain": [
       "<Figure size 432x288 with 1 Axes>"
      ]
     },
     "metadata": {
      "needs_background": "light"
     },
     "output_type": "display_data"
    }
   ],
   "source": [
    "#Evualate your model with accuracy and plot of (NUmber of epoches VS train_and_val_loss)\n",
    "#Train accuracy\n",
    "score = model_relu.evaluate(X_train, Y_train, verbose=0)\n",
    "print('Train score:', score[0])\n",
    "print('Train accuracy:', score[1]*100)\n",
    "print('\\n************************ *********************\\n')\n",
    "#test accuracy\n",
    "score = model_relu.evaluate(X_test, Y_test, verbose=0)\n",
    "print('Test score:', score[0])\n",
    "print('Test accuracy:', score[1]*100)\n",
    "fig,ax = plt.subplots(1,1)\n",
    "ax.set_xlabel('epoch') ; ax.set_ylabel('Categorical Crossentropy Loss')\n",
    "# list of epoch numbers\n",
    "x = list(range(1,nb_epoch+1))\n",
    "# print(history.history.keys())\n",
    "# dict_keys(['val_loss', 'val_acc', 'loss', 'acc'])\n",
    "# history = model_drop.fit(X_train, Y_train, batch_size=batch_size, epochs=nb_epoch, verbose=1, validation_data=(X_test, Y_test))\n",
    "# we will get val_loss and val_acc only when you pass the paramter validation_data\n",
    "# val_loss : validation loss\n",
    "# val_acc : validation accuracy\n",
    "# loss : training loss\n",
    "# acc : train accuracy\n",
    "# for each key in histrory.histrory we will have a list of length equal to number of epochs\n",
    "vy = history.history['val_loss']\n",
    "ty = history.history['loss']\n",
    "plt_dynamic(x, vy, ty, ax)"
   ]
  },
  {
   "cell_type": "markdown",
   "metadata": {},
   "source": [
    "# Compare all the model results"
   ]
  },
  {
   "cell_type": "code",
   "execution_count": 58,
   "metadata": {},
   "outputs": [
    {
     "name": "stdout",
     "output_type": "stream",
     "text": [
      "+-------------+----------------+--------------+---------+----------+\n",
      "| conv_layers | MAxPoll_layers | Dense_layers | Dropout | Accuracy |\n",
      "+-------------+----------------+--------------+---------+----------+\n",
      "|      2      |       2        |      3       |    NO   |  98.94   |\n",
      "|      3      |       3        |      2       |    NO   |  98.75   |\n",
      "|      4      |       2        |      2       |    NO   |  99.09   |\n",
      "|      2      |       2        |      3       |   0.5   |  99.22   |\n",
      "|      3      |       3        |      2       |   0.9   |  97.92   |\n",
      "|      4      |       2        |      2       |   0.3   |  99.21   |\n",
      "+-------------+----------------+--------------+---------+----------+\n"
     ]
    }
   ],
   "source": [
    "from prettytable import PrettyTable\n",
    "tb = PrettyTable()\n",
    "tb.field_names= (\"conv_layers\", \"MAxPoll_layers\", \"Dense_layers\",\"Dropout\",\"Accuracy\")\n",
    "tb.add_row([\"2\", \"2\",\"3\",\"NO\",98.94])\n",
    "tb.add_row([\"3\", \"3\",\"2\",\"NO\",98.75])\n",
    "tb.add_row([\"4\", \"2\",\"2\",\"NO\",99.09])\n",
    "tb.add_row([\"2\", \"2\",\"3\",\"0.5\",99.22])\n",
    "tb.add_row([\"3\", \"3\",\"2\",\"0.9\",97.92])\n",
    "tb.add_row([\"4\", \"2\",\"2\",\"0.3\",99.21])\n",
    "\n",
    "print(tb.get_string(titles = \"CNN Models - Observations\"))"
   ]
  },
  {
   "cell_type": "markdown",
   "metadata": {},
   "source": [
    "CONCLUSION:\n",
    "    \n",
    "Train accuracy is low for higher number of layers.\n",
    "\n",
    "Test accuracy  is almost same for all case.\n",
    "\n",
    "Overall conclusion:\n",
    "We can conclude that all the 3 different architectures i.e 3, 5 and 9 performed very well with close accuracy of 98.7%.\n",
    "Also, We can conclude that regularizers like drop out resulted in close accuracy of 99.4%\n",
    "\n",
    "CONCLUSION FOR OPTIMIZERS:\n",
    "Accuracy for Adam optimizer is little higher when compared with SGD optimizer"
   ]
  }
 ],
 "metadata": {
  "kernelspec": {
   "display_name": "Python 3",
   "language": "python",
   "name": "python3"
  },
  "language_info": {
   "codemirror_mode": {
    "name": "ipython",
    "version": 3
   },
   "file_extension": ".py",
   "mimetype": "text/x-python",
   "name": "python",
   "nbconvert_exporter": "python",
   "pygments_lexer": "ipython3",
   "version": "3.7.3"
  }
 },
 "nbformat": 4,
 "nbformat_minor": 2
}
